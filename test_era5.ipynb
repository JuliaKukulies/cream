{
 "cells": [
  {
   "cell_type": "markdown",
   "metadata": {},
   "source": [
    "# Test functions for ERA5 in cream package \n",
    "\n",
    "This notebook demonstrates how **cream** can be used to download, process and plot climate reanalysis data from ERA5. \n",
    "\n",
    "*Created by Julia Kukulies: julia.kukulies@gu.se* \n",
    "\n",
    "\n"
   ]
  },
  {
   "cell_type": "code",
   "execution_count": 1,
   "metadata": {},
   "outputs": [],
   "source": [
    "from cream import dataproducts"
   ]
  },
  {
   "cell_type": "markdown",
   "metadata": {
    "collapsed": true
   },
   "source": [
    "## Download different ERA5 data products"
   ]
  },
  {
   "cell_type": "markdown",
   "metadata": {},
   "source": [
    "### Example 1: Global data of convective rain at hourly resolution**"
   ]
  },
  {
   "cell_type": "code",
   "execution_count": 21,
   "metadata": {},
   "outputs": [
    {
     "name": "stdout",
     "output_type": "stream",
     "text": [
      "single-levels crr monthly cache\n"
     ]
    }
   ],
   "source": [
    "# create an ERA5 data product object which contains all necessary information\n",
    "global_rain = dataproducts.ERA5('single-levels', 'crr', 'monthly')\n",
    "\n",
    "# attributes \n",
    "print(global_rain.product, global_rain.variables, global_rain.resolution, global_rain.path)"
   ]
  },
  {
   "cell_type": "code",
   "execution_count": 22,
   "metadata": {},
   "outputs": [
    {
     "name": "stdout",
     "output_type": "stream",
     "text": [
      "Help on function get_data_per_year in module cream.dataproducts:\n",
      "\n",
      "get_data_per_year(self, years, months=None, days=None, hours=None)\n",
      "    Downloads ERA5 data for a specific year or multiple years at hourly or monthly resolution. The output data is stored seperately for each year.\n",
      "    \n",
      "    Parameter:\n",
      "    ----------\n",
      "    \n",
      "    years(list): string list with year(s) to download at hourly or monthly resolution\n",
      "    \n",
      "    optional:\n",
      "    ----------\n",
      "    \n",
      "    months(list): string list with months, if None: all months are downloaded\n",
      "    days(list): string list with days, if None: all days are downloaded\n",
      "    hours(list): string list with hours, if None: all hours are downloaded for hourly data and monthly means\n",
      "\n",
      "Help on function get_data_for_composites in module cream.dataproducts:\n",
      "\n",
      "get_data_for_composites(self, composites)\n",
      "    Downloads ERA5 data for hourly (non-consecutive) timesteps, where each timestep is saved as a separate file. Since the timesteps do not need to be consecutive, the function enables the download for climate composites.\n",
      "    \n",
      "    Parameter:\n",
      "    ----------\n",
      "    \n",
      "    composites(dict): dictionary with years, months, days and hours in datetime format for timesteps\n",
      "\n",
      "Help on function get_data_for_range in module cream.dataproducts:\n",
      "\n",
      "get_data_for_range(self, start, end)\n",
      "    Download ERA5 for a given range.\n",
      "    \n",
      "    Parameter:\n",
      "    ----------\n",
      "    \n",
      "    start(datetime.datetime): start time\n",
      "    end(datetime.datetime): end time\n",
      "\n"
     ]
    }
   ],
   "source": [
    "# options to download data per year, for composites or for a specific range:\n",
    "\n",
    "help(dataproducts.ERA5.get_data_per_year)\n",
    "help(dataproducts.ERA5.get_data_for_composites)\n",
    "help(dataproducts.ERA5.get_data_for_range)"
   ]
  },
  {
   "cell_type": "code",
   "execution_count": 23,
   "metadata": {},
   "outputs": [
    {
     "name": "stderr",
     "output_type": "stream",
     "text": [
      "2020-03-31 08:37:45,445 INFO Sending request to https://cds.climate.copernicus.eu/api/v2/resources/reanalysis-era5-single-levels-monthly-means\n",
      "2020-03-31 08:37:46,043 INFO Request is queued\n",
      "2020-03-31 08:37:47,090 INFO Request is running\n",
      "2020-03-31 08:37:50,935 INFO Request is completed\n",
      "2020-03-31 08:37:50,938 INFO Downloading http://136.156.132.235/cache-compute-0006/cache/data5/adaptor.mars.internal-1585636666.1157537-23873-9-3db4a183-799e-4b86-ad33-dd5a7a51f94d.nc to cache/era5_single-levels-monthly-means_2018.nc (23.8M)\n",
      "2020-03-31 08:37:55,076 INFO Download rate 5.7M/s   \n",
      "2020-03-31 08:37:55,133 INFO Sending request to https://cds.climate.copernicus.eu/api/v2/resources/reanalysis-era5-single-levels-monthly-means\n",
      "2020-03-31 08:37:55,256 INFO Request is queued\n"
     ]
    },
    {
     "name": "stdout",
     "output_type": "stream",
     "text": [
      "file downloaded and saved as  cache/era5_single-levels-monthly-means_2018.nc\n"
     ]
    },
    {
     "name": "stderr",
     "output_type": "stream",
     "text": [
      "2020-03-31 08:37:56,302 INFO Request is running\n",
      "2020-03-31 08:38:00,143 INFO Request is completed\n",
      "2020-03-31 08:38:00,145 INFO Downloading http://136.156.133.41/cache-compute-0013/cache/data7/adaptor.mars.internal-1585636675.3028681-16433-35-29e56e85-63d8-4d2b-9d60-b970fe506173.nc to cache/era5_single-levels-monthly-means_2019.nc (23.8M)\n",
      "2020-03-31 08:38:04,144 INFO Download rate 5.9M/s   \n"
     ]
    },
    {
     "name": "stdout",
     "output_type": "stream",
     "text": [
      "file downloaded and saved as  cache/era5_single-levels-monthly-means_2019.nc\n"
     ]
    }
   ],
   "source": [
    "# download all months for 2018 and 2019 and save output per year \n",
    "global_rain.get_data_per_year(('2018', '2019'))\n"
   ]
  },
  {
   "cell_type": "markdown",
   "metadata": {},
   "source": [
    "**Note that the download is omitted, if the data already exists in cache/ directory **"
   ]
  },
  {
   "cell_type": "code",
   "execution_count": 24,
   "metadata": {},
   "outputs": [
    {
     "name": "stdout",
     "output_type": "stream",
     "text": [
      "omittted download for  era5_single-levels-monthly-means_2018.nc\n",
      "omittted download for  era5_single-levels-monthly-means_2019.nc\n"
     ]
    }
   ],
   "source": [
    "global_rain.get_data_per_year(('2018', '2019'))"
   ]
  },
  {
   "cell_type": "markdown",
   "metadata": {},
   "source": [
    "### Example 2: Dewpoint temperature at surface at hourly resolution for Europe"
   ]
  },
  {
   "cell_type": "code",
   "execution_count": 2,
   "metadata": {},
   "outputs": [
    {
     "name": "stderr",
     "output_type": "stream",
     "text": [
      "2020-03-31 11:11:33,978 INFO Sending request to https://cds.climate.copernicus.eu/api/v2/resources/reanalysis-era5-single-levels\n",
      "2020-03-31 11:11:34,553 INFO Request is completed\n",
      "2020-03-31 11:11:34,556 INFO Downloading http://136.156.132.235/cache-compute-0006/cache/data6/adaptor.mars.internal-1585645432.798762-30852-9-19fd1d81-a6c3-452a-918e-34e89b06cae7.nc to cache/era5_single-levels_201673010_2m_dewpoint_temperature.nc (57.7K)\n",
      "2020-03-31 11:11:34,746 INFO Download rate 308.8K/s\n",
      "2020-03-31 11:11:34,896 INFO Sending request to https://cds.climate.copernicus.eu/api/v2/resources/reanalysis-era5-single-levels\n"
     ]
    },
    {
     "name": "stdout",
     "output_type": "stream",
     "text": [
      "file downloaded and saved as cache/era5_single-levels_201673010_2m_dewpoint_temperature.nc\n"
     ]
    },
    {
     "name": "stderr",
     "output_type": "stream",
     "text": [
      "2020-03-31 11:11:35,328 INFO Downloading http://136.156.132.235/cache-compute-0006/cache/data7/adaptor.mars.internal-1585645436.41168-30593-13-dfb92eae-8667-411b-b3b5-13ea3c21b850.nc to cache/era5_single-levels_201673011_2m_dewpoint_temperature.nc (57.7K)\n",
      "2020-03-31 11:11:35,530 INFO Download rate 287.6K/s\n",
      "2020-03-31 11:11:35,930 INFO Sending request to https://cds.climate.copernicus.eu/api/v2/resources/reanalysis-era5-single-levels\n"
     ]
    },
    {
     "name": "stdout",
     "output_type": "stream",
     "text": [
      "file downloaded and saved as cache/era5_single-levels_201673011_2m_dewpoint_temperature.nc\n"
     ]
    },
    {
     "name": "stderr",
     "output_type": "stream",
     "text": [
      "2020-03-31 11:11:36,198 INFO Downloading http://136.156.133.25/cache-compute-0008/cache/data4/adaptor.mars.internal-1585645439.301399-23419-11-d53a7e42-823d-4061-a303-cc8811624dda.nc to cache/era5_single-levels_201673012_2m_dewpoint_temperature.nc (57.7K)\n",
      "2020-03-31 11:11:36,411 INFO Download rate 272.9K/s\n",
      "2020-03-31 11:11:36,569 INFO Sending request to https://cds.climate.copernicus.eu/api/v2/resources/reanalysis-era5-single-levels\n"
     ]
    },
    {
     "name": "stdout",
     "output_type": "stream",
     "text": [
      "file downloaded and saved as cache/era5_single-levels_201673012_2m_dewpoint_temperature.nc\n"
     ]
    },
    {
     "name": "stderr",
     "output_type": "stream",
     "text": [
      "2020-03-31 11:11:37,139 INFO Downloading http://136.156.133.42/cache-compute-0014/cache/data6/adaptor.mars.internal-1585645466.8556588-27323-12-d9b83b24-70e4-464c-8e7c-e70ca0b3c284.nc to cache/era5_single-levels_201673013_2m_dewpoint_temperature.nc (57.7K)\n",
      "2020-03-31 11:11:37,338 INFO Download rate 293.2K/s\n",
      "2020-03-31 11:11:37,541 INFO Sending request to https://cds.climate.copernicus.eu/api/v2/resources/reanalysis-era5-single-levels\n"
     ]
    },
    {
     "name": "stdout",
     "output_type": "stream",
     "text": [
      "file downloaded and saved as cache/era5_single-levels_201673013_2m_dewpoint_temperature.nc\n"
     ]
    },
    {
     "name": "stderr",
     "output_type": "stream",
     "text": [
      "2020-03-31 11:11:38,124 INFO Downloading http://136.156.132.198/cache-compute-0003/cache/data0/adaptor.mars.internal-1585645718.8132913-17651-1-ef436e2c-c48c-49fb-ac10-c9f6fcd87f0c.nc to cache/era5_single-levels_201673014_2m_dewpoint_temperature.nc (57.7K)\n",
      "2020-03-31 11:11:38,460 INFO Download rate 173K/s\n",
      "2020-03-31 11:11:38,862 INFO Sending request to https://cds.climate.copernicus.eu/api/v2/resources/reanalysis-era5-single-levels\n"
     ]
    },
    {
     "name": "stdout",
     "output_type": "stream",
     "text": [
      "file downloaded and saved as cache/era5_single-levels_201673014_2m_dewpoint_temperature.nc\n"
     ]
    },
    {
     "name": "stderr",
     "output_type": "stream",
     "text": [
      "2020-03-31 11:11:39,195 INFO Downloading http://136.156.132.210/cache-compute-0005/cache/data1/adaptor.mars.internal-1585645722.0549786-5532-3-70046b23-1e26-4091-88a9-ecd34de8521e.nc to cache/era5_single-levels_201673015_2m_dewpoint_temperature.nc (57.7K)\n",
      "2020-03-31 11:11:39,370 INFO Download rate 335.3K/s\n",
      "2020-03-31 11:11:40,336 INFO Sending request to https://cds.climate.copernicus.eu/api/v2/resources/reanalysis-era5-single-levels\n"
     ]
    },
    {
     "name": "stdout",
     "output_type": "stream",
     "text": [
      "file downloaded and saved as cache/era5_single-levels_201673015_2m_dewpoint_temperature.nc\n"
     ]
    },
    {
     "name": "stderr",
     "output_type": "stream",
     "text": [
      "2020-03-31 11:11:40,963 INFO Downloading http://136.156.132.210/cache-compute-0005/cache/data1/adaptor.mars.internal-1585645744.453849-5596-3-77ac5fe8-74c8-4203-84d8-8f6f600662d8.nc to cache/era5_single-levels_201673016_2m_dewpoint_temperature.nc (57.7K)\n",
      "2020-03-31 11:11:41,113 INFO Download rate 391.4K/s\n",
      "2020-03-31 11:11:41,329 INFO Sending request to https://cds.climate.copernicus.eu/api/v2/resources/reanalysis-era5-single-levels\n"
     ]
    },
    {
     "name": "stdout",
     "output_type": "stream",
     "text": [
      "file downloaded and saved as cache/era5_single-levels_201673016_2m_dewpoint_temperature.nc\n"
     ]
    },
    {
     "name": "stderr",
     "output_type": "stream",
     "text": [
      "2020-03-31 11:11:41,979 INFO Downloading http://136.156.133.46/cache-compute-0015/cache/data3/adaptor.mars.internal-1585645747.3061981-3130-5-dc8f7d9b-85bd-46a4-b741-1b9329042f15.nc to cache/era5_single-levels_201673017_2m_dewpoint_temperature.nc (57.7K)\n",
      "2020-03-31 11:11:42,133 INFO Download rate 382.5K/s\n",
      "2020-03-31 11:11:42,506 INFO Sending request to https://cds.climate.copernicus.eu/api/v2/resources/reanalysis-era5-single-levels\n"
     ]
    },
    {
     "name": "stdout",
     "output_type": "stream",
     "text": [
      "file downloaded and saved as cache/era5_single-levels_201673017_2m_dewpoint_temperature.nc\n"
     ]
    },
    {
     "name": "stderr",
     "output_type": "stream",
     "text": [
      "2020-03-31 11:11:43,920 INFO Downloading http://136.156.133.46/cache-compute-0015/cache/data9/adaptor.mars.internal-1585645750.095165-3225-3-a9998fec-62b6-4257-9db8-2e63064791db.nc to cache/era5_single-levels_201673018_2m_dewpoint_temperature.nc (57.7K)\n",
      "2020-03-31 11:11:44,073 INFO Download rate 384.2K/s\n",
      "2020-03-31 11:11:44,912 INFO Sending request to https://cds.climate.copernicus.eu/api/v2/resources/reanalysis-era5-single-levels\n"
     ]
    },
    {
     "name": "stdout",
     "output_type": "stream",
     "text": [
      "file downloaded and saved as cache/era5_single-levels_201673018_2m_dewpoint_temperature.nc\n"
     ]
    },
    {
     "name": "stderr",
     "output_type": "stream",
     "text": [
      "2020-03-31 11:11:45,477 INFO Downloading http://136.156.133.25/cache-compute-0008/cache/data9/adaptor.mars.internal-1585645751.8056555-26104-3-651e0c4a-b801-4b49-99b0-0faf3d691cf1.nc to cache/era5_single-levels_201673019_2m_dewpoint_temperature.nc (57.7K)\n",
      "2020-03-31 11:11:45,642 INFO Download rate 356.9K/s\n",
      "2020-03-31 11:11:46,050 INFO Sending request to https://cds.climate.copernicus.eu/api/v2/resources/reanalysis-era5-single-levels\n"
     ]
    },
    {
     "name": "stdout",
     "output_type": "stream",
     "text": [
      "file downloaded and saved as cache/era5_single-levels_201673019_2m_dewpoint_temperature.nc\n"
     ]
    },
    {
     "name": "stderr",
     "output_type": "stream",
     "text": [
      "2020-03-31 11:11:47,247 INFO Downloading http://136.156.132.235/cache-compute-0006/cache/data3/adaptor.mars.internal-1585645754.4193025-30593-24-7f9d934f-232a-43b2-8065-bb39e9bc8612.nc to cache/era5_single-levels_201673020_2m_dewpoint_temperature.nc (57.7K)\n",
      "2020-03-31 11:11:47,397 INFO Download rate 391K/s\n"
     ]
    },
    {
     "name": "stdout",
     "output_type": "stream",
     "text": [
      "file downloaded and saved as cache/era5_single-levels_201673020_2m_dewpoint_temperature.nc\n"
     ]
    }
   ],
   "source": [
    "hourly_temps = dataproducts.ERA5('single-levels', '2m_dewpoint_temperature', 'hourly', domain = \"70/-10/35/40\" )\n",
    "\n",
    "import datetime \n",
    "start = datetime.datetime(2016,7,30, 10)\n",
    "end = datetime.datetime(2016,7,30, 20)\n",
    "\n",
    "hourly_temps.get_data_for_range(start, end)"
   ]
  },
  {
   "cell_type": "code",
   "execution_count": null,
   "metadata": {
    "collapsed": true
   },
   "outputs": [],
   "source": []
  },
  {
   "cell_type": "code",
   "execution_count": null,
   "metadata": {
    "collapsed": true
   },
   "outputs": [],
   "source": []
  },
  {
   "cell_type": "code",
   "execution_count": null,
   "metadata": {
    "collapsed": true
   },
   "outputs": [],
   "source": []
  },
  {
   "cell_type": "code",
   "execution_count": null,
   "metadata": {
    "collapsed": true
   },
   "outputs": [],
   "source": []
  },
  {
   "cell_type": "code",
   "execution_count": null,
   "metadata": {
    "collapsed": true
   },
   "outputs": [],
   "source": []
  },
  {
   "cell_type": "markdown",
   "metadata": {
    "collapsed": true
   },
   "source": [
    "## Plotting data "
   ]
  }
 ],
 "metadata": {
  "kernelspec": {
   "display_name": "Python 3",
   "language": "python",
   "name": "python3"
  },
  "language_info": {
   "codemirror_mode": {
    "name": "ipython",
    "version": 3
   },
   "file_extension": ".py",
   "mimetype": "text/x-python",
   "name": "python",
   "nbconvert_exporter": "python",
   "pygments_lexer": "ipython3",
   "version": "3.6.7"
  }
 },
 "nbformat": 4,
 "nbformat_minor": 2
}
