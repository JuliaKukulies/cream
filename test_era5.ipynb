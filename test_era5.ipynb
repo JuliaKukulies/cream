{
 "cells": [
  {
   "cell_type": "markdown",
   "metadata": {},
   "source": [
    "# Test functions for ERA5 in cream package \n",
    "\n",
    "\n"
   ]
  },
  {
   "cell_type": "markdown",
   "metadata": {
    "collapsed": true
   },
   "source": [
    "## Downloading data \n",
    "\n",
    "- specify in name when special selection is made \n",
    "- test different selections for get_data_per_year \n",
    "- add hourly data for date range "
   ]
  },
  {
   "cell_type": "code",
   "execution_count": 1,
   "metadata": {
    "collapsed": true
   },
   "outputs": [],
   "source": [
    "from cream import dataproducts"
   ]
  },
  {
   "cell_type": "code",
   "execution_count": 2,
   "metadata": {},
   "outputs": [
    {
     "name": "stdout",
     "output_type": "stream",
     "text": [
      "Help on class ERA5 in module cream.dataproducts:\n",
      "\n",
      "class ERA5(builtins.object)\n",
      " |  Base class for ERA5 data products.\n",
      " |  \n",
      " |  This class provides an interface to facilitate the download of ERA5 data products from Copernicus. \n",
      " |  \n",
      " |  \n",
      " |  Attributes:\n",
      " |  -----------\n",
      " |  product(str): supported products are land, single-level, pressure-levels\n",
      " |  resolution(str): hourly or monthly\n",
      " |  variables(list): list with ERA5 variable(s) (check https://confluence.ecmwf.int/display/CKB/ERA5%3A+data+documentation for all available variables)\n",
      " |  domain(str): select region with \"lat2/lon1/lat1/lon2\", if None: global data is downloaded\n",
      " |  path(str): name of directory where data download is stored: cache/\n",
      " |  \n",
      " |  Methods defined here:\n",
      " |  \n",
      " |  __init__(self, product, variables, resolution, domain=None)\n",
      " |      Initialize self.  See help(type(self)) for accurate signature.\n",
      " |  \n",
      " |  get_data_for_composites(self, composites)\n",
      " |      Downloads ERA5 data for hourly (non-consecutive) timesteps, where each timestep is saved as a separate file. Since the timesteps do not need to be consecutive, the function enables the download for climate composites.\n",
      " |      \n",
      " |      Parameter:\n",
      " |      ----------\n",
      " |      \n",
      " |      composites(dict): dictionary with years, months, days and hours in datetime format for timesteps\n",
      " |  \n",
      " |  get_data_for_range(self, start, end)\n",
      " |      Download ERA5 for a given range.\n",
      " |      \n",
      " |      Parameter:\n",
      " |      ----------\n",
      " |      \n",
      " |      start(datetime.datetime): start time\n",
      " |      end(datetime.datetime): end time\n",
      " |  \n",
      " |  get_data_per_year(self, years, months=None, days=None, hours=None)\n",
      " |      Downloads ERA5 data for a specific year or multiple years at hourly or monthly resolution. The output data is stored seperately for each year.\n",
      " |      \n",
      " |      Parameter:\n",
      " |      ----------\n",
      " |      \n",
      " |      years(list): string list with year(s) to download at hourly or monthly resolution\n",
      " |      \n",
      " |      optional:\n",
      " |      ----------\n",
      " |      \n",
      " |      months(list): string list with months, if None: all months are downloaded\n",
      " |      days(list): string list with days, if None: all days are downloaded\n",
      " |      hours(list): string list with hours, if None: all hours are downloaded for hourly data and monthly means\n",
      " |  \n",
      " |  ----------------------------------------------------------------------\n",
      " |  Data descriptors defined here:\n",
      " |  \n",
      " |  __dict__\n",
      " |      dictionary for instance variables (if defined)\n",
      " |  \n",
      " |  __weakref__\n",
      " |      list of weak references to the object (if defined)\n",
      "\n",
      "Help on function get_data_per_year in module cream.dataproducts:\n",
      "\n",
      "get_data_per_year(self, years, months=None, days=None, hours=None)\n",
      "    Downloads ERA5 data for a specific year or multiple years at hourly or monthly resolution. The output data is stored seperately for each year.\n",
      "    \n",
      "    Parameter:\n",
      "    ----------\n",
      "    \n",
      "    years(list): string list with year(s) to download at hourly or monthly resolution\n",
      "    \n",
      "    optional:\n",
      "    ----------\n",
      "    \n",
      "    months(list): string list with months, if None: all months are downloaded\n",
      "    days(list): string list with days, if None: all days are downloaded\n",
      "    hours(list): string list with hours, if None: all hours are downloaded for hourly data and monthly means\n",
      "\n"
     ]
    }
   ],
   "source": [
    "help(dataproducts.ERA5)\n",
    "help(dataproducts.ERA5.get_data_per_year)"
   ]
  },
  {
   "cell_type": "code",
   "execution_count": 3,
   "metadata": {
    "collapsed": true
   },
   "outputs": [],
   "source": [
    "global_rain = dataproducts.ERA5('single-levels', ['2m_dewpoint_temperature'], 'monthly')"
   ]
  },
  {
   "cell_type": "code",
   "execution_count": 4,
   "metadata": {},
   "outputs": [
    {
     "name": "stdout",
     "output_type": "stream",
     "text": [
      "Help on function get_data_for_range in module cream.dataproducts:\n",
      "\n",
      "get_data_for_range(self, start, end)\n",
      "    Download ERA5 for a given range.\n",
      "    \n",
      "    Parameter:\n",
      "    ----------\n",
      "    \n",
      "    start(datetime.datetime): start time\n",
      "    end(datetime.datetime): end time\n",
      "\n"
     ]
    }
   ],
   "source": [
    "help(dataproducts.ERA5.get_data_for_range)"
   ]
  },
  {
   "cell_type": "code",
   "execution_count": 5,
   "metadata": {},
   "outputs": [
    {
     "name": "stderr",
     "output_type": "stream",
     "text": [
      "2020-03-28 19:46:59,002 INFO Sending request to https://cds.climate.copernicus.eu/api/v2/resources/reanalysis-era5-single-levels-monthly-means\n",
      "2020-03-28 19:46:59,695 INFO Request is completed\n",
      "2020-03-28 19:46:59,697 INFO Downloading http://136.156.132.153/cache-compute-0002/cache/data8/adaptor.mars.internal-1585419701.3775895-27394-38-f7c361b1-4959-4426-ac11-47a57f352bec.nc to cache/era5_single-levels-monthly-means_20187.nc (2M)\n",
      "2020-03-28 19:47:00,371 INFO Download rate 3M/s     \n",
      "2020-03-28 19:47:00,497 INFO Sending request to https://cds.climate.copernicus.eu/api/v2/resources/reanalysis-era5-single-levels-monthly-means\n",
      "2020-03-28 19:47:00,615 INFO Downloading http://136.156.133.41/cache-compute-0013/cache/data3/adaptor.mars.internal-1585420012.287657-24443-11-bda67e7e-9dc5-4432-91ce-058191406184.nc to cache/era5_single-levels-monthly-means_20188.nc (2M)\n"
     ]
    },
    {
     "name": "stdout",
     "output_type": "stream",
     "text": [
      "file downloaded and saved as cache/era5_single-levels-monthly-means_20187.nc\n"
     ]
    },
    {
     "name": "stderr",
     "output_type": "stream",
     "text": [
      "2020-03-28 19:47:01,342 INFO Download rate 2.7M/s   \n",
      "2020-03-28 19:47:01,445 INFO Sending request to https://cds.climate.copernicus.eu/api/v2/resources/reanalysis-era5-single-levels-monthly-means\n",
      "2020-03-28 19:47:01,533 INFO Downloading http://136.156.132.236/cache-compute-0007/cache/data8/adaptor.mars.internal-1585420018.962268-1239-17-e8517dcc-fd4d-41a7-bc7c-18478c593831.nc to cache/era5_single-levels-monthly-means_20189.nc (2M)\n"
     ]
    },
    {
     "name": "stdout",
     "output_type": "stream",
     "text": [
      "file downloaded and saved as cache/era5_single-levels-monthly-means_20188.nc\n"
     ]
    },
    {
     "name": "stderr",
     "output_type": "stream",
     "text": [
      "2020-03-28 19:47:02,246 INFO Download rate 2.8M/s   \n",
      "2020-03-28 19:47:02,323 INFO Sending request to https://cds.climate.copernicus.eu/api/v2/resources/reanalysis-era5-single-levels-monthly-means\n"
     ]
    },
    {
     "name": "stdout",
     "output_type": "stream",
     "text": [
      "file downloaded and saved as cache/era5_single-levels-monthly-means_20189.nc\n",
      "omittted download for  era5_single-levels-monthly-means_201810.nc\n"
     ]
    },
    {
     "name": "stderr",
     "output_type": "stream",
     "text": [
      "2020-03-28 19:47:02,561 INFO Downloading http://136.156.133.41/cache-compute-0013/cache/data1/adaptor.mars.internal-1585420031.9716473-22198-15-6ba6b302-d481-4fa7-ab92-195f6ea36ba5.nc to cache/era5_single-levels-monthly-means_201811.nc (2M)\n",
      "2020-03-28 19:47:03,482 INFO Download rate 2.2M/s   \n",
      "2020-03-28 19:47:04,098 INFO Sending request to https://cds.climate.copernicus.eu/api/v2/resources/reanalysis-era5-single-levels-monthly-means\n",
      "2020-03-28 19:47:04,192 INFO Downloading http://136.156.133.46/cache-compute-0015/cache/data4/adaptor.mars.internal-1585420037.1692808-3614-23-667807a1-f504-4f59-80a1-ec2f530645b5.nc to cache/era5_single-levels-monthly-means_201812.nc (2M)\n"
     ]
    },
    {
     "name": "stdout",
     "output_type": "stream",
     "text": [
      "file downloaded and saved as cache/era5_single-levels-monthly-means_201811.nc\n"
     ]
    },
    {
     "name": "stderr",
     "output_type": "stream",
     "text": [
      "2020-03-28 19:47:04,803 INFO Download rate 3.3M/s   \n",
      "2020-03-28 19:47:05,121 INFO Sending request to https://cds.climate.copernicus.eu/api/v2/resources/reanalysis-era5-single-levels-monthly-means\n"
     ]
    },
    {
     "name": "stdout",
     "output_type": "stream",
     "text": [
      "file downloaded and saved as cache/era5_single-levels-monthly-means_201812.nc\n"
     ]
    },
    {
     "name": "stderr",
     "output_type": "stream",
     "text": [
      "2020-03-28 19:47:05,634 INFO Downloading http://136.156.132.198/cache-compute-0003/cache/data0/adaptor.mars.internal-1585420042.763948-4905-1-06d7bc45-6b2f-4333-8c46-47bd85f5d07f.nc to cache/era5_single-levels-monthly-means_20191.nc (2M)\n",
      "2020-03-28 19:47:06,377 INFO Download rate 2.7M/s   \n",
      "2020-03-28 19:47:06,494 INFO Sending request to https://cds.climate.copernicus.eu/api/v2/resources/reanalysis-era5-single-levels-monthly-means\n"
     ]
    },
    {
     "name": "stdout",
     "output_type": "stream",
     "text": [
      "file downloaded and saved as cache/era5_single-levels-monthly-means_20191.nc\n"
     ]
    },
    {
     "name": "stderr",
     "output_type": "stream",
     "text": [
      "2020-03-28 19:47:06,759 INFO Downloading http://136.156.132.105/cache-compute-0000/cache/data7/adaptor.mars.internal-1585420050.6765451-4447-27-672e401d-a3ec-4e3e-865e-b408a9bea765.nc to cache/era5_single-levels-monthly-means_20192.nc (2M)\n",
      "2020-03-28 19:47:07,302 INFO Download rate 3.7M/s   \n",
      "2020-03-28 19:47:07,389 INFO Sending request to https://cds.climate.copernicus.eu/api/v2/resources/reanalysis-era5-single-levels-monthly-means\n"
     ]
    },
    {
     "name": "stdout",
     "output_type": "stream",
     "text": [
      "file downloaded and saved as cache/era5_single-levels-monthly-means_20192.nc\n"
     ]
    },
    {
     "name": "stderr",
     "output_type": "stream",
     "text": [
      "2020-03-28 19:47:07,681 INFO Downloading http://136.156.132.210/cache-compute-0005/cache/data0/adaptor.mars.internal-1585420055.114528-17325-11-405f53d3-fff5-40ce-ad3d-90dff3ce935c.nc to cache/era5_single-levels-monthly-means_20193.nc (2M)\n",
      "2020-03-28 19:47:08,256 INFO Download rate 3.5M/s   \n",
      "2020-03-28 19:47:08,313 INFO Sending request to https://cds.climate.copernicus.eu/api/v2/resources/reanalysis-era5-single-levels-monthly-means\n"
     ]
    },
    {
     "name": "stdout",
     "output_type": "stream",
     "text": [
      "file downloaded and saved as cache/era5_single-levels-monthly-means_20193.nc\n"
     ]
    },
    {
     "name": "stderr",
     "output_type": "stream",
     "text": [
      "2020-03-28 19:47:08,561 INFO Downloading http://136.156.132.153/cache-compute-0002/cache/data2/adaptor.mars.internal-1585420059.6109645-6480-11-a8e71fe3-71ae-4d8d-a1cd-bebd09577187.nc to cache/era5_single-levels-monthly-means_20194.nc (2M)\n",
      "2020-03-28 19:47:09,393 INFO Download rate 2.4M/s   \n",
      "2020-03-28 19:47:09,532 INFO Sending request to https://cds.climate.copernicus.eu/api/v2/resources/reanalysis-era5-single-levels-monthly-means\n"
     ]
    },
    {
     "name": "stdout",
     "output_type": "stream",
     "text": [
      "file downloaded and saved as cache/era5_single-levels-monthly-means_20194.nc\n"
     ]
    },
    {
     "name": "stderr",
     "output_type": "stream",
     "text": [
      "2020-03-28 19:47:09,830 INFO Downloading http://136.156.133.25/cache-compute-0008/cache/data1/adaptor.mars.internal-1585420063.8536134-11059-17-ff07882e-b4d0-4dff-b3a4-ddaceedf3bd2.nc to cache/era5_single-levels-monthly-means_20195.nc (2M)\n",
      "2020-03-28 19:47:10,620 INFO Download rate 2.5M/s   \n",
      "2020-03-28 19:47:11,059 INFO Sending request to https://cds.climate.copernicus.eu/api/v2/resources/reanalysis-era5-single-levels-monthly-means\n"
     ]
    },
    {
     "name": "stdout",
     "output_type": "stream",
     "text": [
      "file downloaded and saved as cache/era5_single-levels-monthly-means_20195.nc\n"
     ]
    },
    {
     "name": "stderr",
     "output_type": "stream",
     "text": [
      "2020-03-28 19:47:11,266 INFO Downloading http://136.156.132.105/cache-compute-0000/cache/data2/adaptor.mars.internal-1585420067.6634307-5054-25-110bac44-fe2e-496a-8cc2-9188612dbb14.nc to cache/era5_single-levels-monthly-means_20196.nc (2M)\n",
      "2020-03-28 19:47:11,892 INFO Download rate 3.2M/s   \n",
      "2020-03-28 19:47:12,185 INFO Sending request to https://cds.climate.copernicus.eu/api/v2/resources/reanalysis-era5-single-levels-monthly-means\n"
     ]
    },
    {
     "name": "stdout",
     "output_type": "stream",
     "text": [
      "file downloaded and saved as cache/era5_single-levels-monthly-means_20196.nc\n"
     ]
    },
    {
     "name": "stderr",
     "output_type": "stream",
     "text": [
      "2020-03-28 19:47:12,492 INFO Downloading http://136.156.132.235/cache-compute-0006/cache/data6/adaptor.mars.internal-1585420070.816867-7976-29-922b9341-0ba6-4ec5-a7cb-1ae55164d9af.nc to cache/era5_single-levels-monthly-means_20197.nc (2M)\n",
      "2020-03-28 19:47:13,026 INFO Download rate 3.7M/s   \n",
      "2020-03-28 19:47:13,340 INFO Sending request to https://cds.climate.copernicus.eu/api/v2/resources/reanalysis-era5-single-levels-monthly-means\n",
      "2020-03-28 19:47:13,435 INFO Downloading http://136.156.133.39/cache-compute-0012/cache/data3/adaptor.mars.internal-1585420074.7148285-5383-7-6c24f5c4-8bce-4d12-b0d9-04832df89ab8.nc to cache/era5_single-levels-monthly-means_20198.nc (2M)\n"
     ]
    },
    {
     "name": "stdout",
     "output_type": "stream",
     "text": [
      "file downloaded and saved as cache/era5_single-levels-monthly-means_20197.nc\n"
     ]
    },
    {
     "name": "stderr",
     "output_type": "stream",
     "text": [
      "2020-03-28 19:47:13,932 INFO Download rate 4M/s     \n",
      "2020-03-28 19:47:14,542 INFO Sending request to https://cds.climate.copernicus.eu/api/v2/resources/reanalysis-era5-single-levels-monthly-means\n"
     ]
    },
    {
     "name": "stdout",
     "output_type": "stream",
     "text": [
      "file downloaded and saved as cache/era5_single-levels-monthly-means_20198.nc\n"
     ]
    },
    {
     "name": "stderr",
     "output_type": "stream",
     "text": [
      "2020-03-28 19:47:14,901 INFO Downloading http://136.156.132.235/cache-compute-0006/cache/data9/adaptor.mars.internal-1585420079.4172733-22410-9-d7d677bd-9c18-43e3-9a8c-91240fefd27b.nc to cache/era5_single-levels-monthly-means_20199.nc (2M)\n",
      "2020-03-28 19:47:15,506 INFO Download rate 3.3M/s   \n"
     ]
    },
    {
     "name": "stdout",
     "output_type": "stream",
     "text": [
      "file downloaded and saved as cache/era5_single-levels-monthly-means_20199.nc\n"
     ]
    }
   ],
   "source": [
    "import datetime \n",
    "start = datetime.datetime(2018,6,1)\n",
    "end = datetime.datetime(2019,9,1)\n",
    "\n",
    "global_rain.get_data_for_range(start, end)"
   ]
  },
  {
   "cell_type": "code",
   "execution_count": null,
   "metadata": {
    "collapsed": true
   },
   "outputs": [],
   "source": []
  },
  {
   "cell_type": "code",
   "execution_count": null,
   "metadata": {
    "collapsed": true
   },
   "outputs": [],
   "source": []
  },
  {
   "cell_type": "code",
   "execution_count": null,
   "metadata": {
    "collapsed": true
   },
   "outputs": [],
   "source": []
  },
  {
   "cell_type": "code",
   "execution_count": null,
   "metadata": {
    "collapsed": true
   },
   "outputs": [],
   "source": []
  },
  {
   "cell_type": "code",
   "execution_count": null,
   "metadata": {
    "collapsed": true
   },
   "outputs": [],
   "source": []
  },
  {
   "cell_type": "markdown",
   "metadata": {
    "collapsed": true
   },
   "source": [
    "## Plotting data "
   ]
  }
 ],
 "metadata": {
  "kernelspec": {
   "display_name": "Python 3",
   "language": "python",
   "name": "python3"
  },
  "language_info": {
   "codemirror_mode": {
    "name": "ipython",
    "version": 3
   },
   "file_extension": ".py",
   "mimetype": "text/x-python",
   "name": "python",
   "nbconvert_exporter": "python",
   "pygments_lexer": "ipython3",
   "version": "3.6.7"
  }
 },
 "nbformat": 4,
 "nbformat_minor": 2
}
