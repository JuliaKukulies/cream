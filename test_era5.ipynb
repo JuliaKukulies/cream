{
 "cells": [
  {
   "cell_type": "markdown",
   "metadata": {},
   "source": [
    "# Test functions for ERA5 in cream package \n",
    "\n",
    "\n"
   ]
  },
  {
   "cell_type": "markdown",
   "metadata": {
    "collapsed": true
   },
   "source": [
    "## Downloading data \n",
    "\n",
    "- specify in name when special selection is made \n",
    "- test different selections for get_data_per_year \n",
    "- add hourly data for date range "
   ]
  },
  {
   "cell_type": "code",
   "execution_count": 1,
   "metadata": {},
   "outputs": [],
   "source": [
    "from cream import dataproducts"
   ]
  },
  {
   "cell_type": "code",
   "execution_count": 2,
   "metadata": {},
   "outputs": [
    {
     "name": "stdout",
     "output_type": "stream",
     "text": [
      "Help on class ERA5 in module cream.dataproducts:\n",
      "\n",
      "class ERA5(builtins.object)\n",
      " |  Base class for ERA5 data products.\n",
      " |  \n",
      " |  This class provides an interface to facilitate the download of ERA5 data products from Copernicus. \n",
      " |  \n",
      " |  \n",
      " |  Attributes:\n",
      " |  -----------\n",
      " |  product(str): supported products are land, single-level, pressure-levels\n",
      " |  resolution(str): hourly or monthly \n",
      " |  variables(list): list with ERA5 variable(s) (check https://confluence.ecmwf.int/display/CKB/ERA5%3A+data+documentation for all available variables)\n",
      " |  domain(str): select region with \"lat2/lon1/lat1/lon2\", if None: global data is downloaded\n",
      " |  path(str): name of directory where data download is stored: cache/\n",
      " |  \n",
      " |  Methods defined here:\n",
      " |  \n",
      " |  __init__(self, product, variables, resolution, domain=None)\n",
      " |      Initialize self.  See help(type(self)) for accurate signature.\n",
      " |  \n",
      " |  get_data_for_composites(self, composites)\n",
      " |      Downloads ERA5 data for hourly (non-consecutive) timesteps, where each timestep is saved as a separate file. Since the timesteps do not need to be consecutive, the function enables the download for climate composites.\n",
      " |      \n",
      " |      Parameter:\n",
      " |      ----------\n",
      " |      \n",
      " |      composites(dict): dictionary with years, months, days and hours in datetime format for timesteps\n",
      " |  \n",
      " |  get_data_per_year(self, years, months=None, days=None, hours=None)\n",
      " |      Downloads ERA5 data for a specific year or multiple years at hourly or monthly resolution. The output data is stored seperately for each year.\n",
      " |      \n",
      " |      Parameter:\n",
      " |      ----------\n",
      " |      \n",
      " |      years(list): string list with year(s) to download at hourly or monthly resolution\n",
      " |      \n",
      " |      optional:\n",
      " |      ----------\n",
      " |      \n",
      " |      months(list): string list with months, if None: all months are downloaded\n",
      " |      days(list): string list with days, if None: all days are downloaded\n",
      " |      hours(list): string list with hours, if None: all hours are downloaded for hourly data and monthly means\n",
      " |  \n",
      " |  ----------------------------------------------------------------------\n",
      " |  Data descriptors defined here:\n",
      " |  \n",
      " |  __dict__\n",
      " |      dictionary for instance variables (if defined)\n",
      " |  \n",
      " |  __weakref__\n",
      " |      list of weak references to the object (if defined)\n",
      "\n",
      "Help on function get_data_per_year in module cream.dataproducts:\n",
      "\n",
      "get_data_per_year(self, years, months=None, days=None, hours=None)\n",
      "    Downloads ERA5 data for a specific year or multiple years at hourly or monthly resolution. The output data is stored seperately for each year.\n",
      "    \n",
      "    Parameter:\n",
      "    ----------\n",
      "    \n",
      "    years(list): string list with year(s) to download at hourly or monthly resolution\n",
      "    \n",
      "    optional:\n",
      "    ----------\n",
      "    \n",
      "    months(list): string list with months, if None: all months are downloaded\n",
      "    days(list): string list with days, if None: all days are downloaded\n",
      "    hours(list): string list with hours, if None: all hours are downloaded for hourly data and monthly means\n",
      "\n"
     ]
    }
   ],
   "source": [
    "help(dataproducts.ERA5)\n",
    "help(dataproducts.ERA5.get_data_per_year)"
   ]
  },
  {
   "cell_type": "code",
   "execution_count": 3,
   "metadata": {},
   "outputs": [],
   "source": [
    "global_rain = dataproducts.ERA5('single-levels', ['crr'], 'monthly')"
   ]
  },
  {
   "cell_type": "code",
   "execution_count": 4,
   "metadata": {},
   "outputs": [
    {
     "name": "stderr",
     "output_type": "stream",
     "text": [
      "2020-03-28 15:30:45,114 INFO Sending request to https://cds.climate.copernicus.eu/api/v2/resources/reanalysis-era5-single-levels-monthly-means\n",
      "2020-03-28 15:30:45,569 INFO Request is queued\n",
      "2020-03-28 15:30:46,619 INFO Request is running\n",
      "2020-03-28 15:30:50,492 INFO Request is completed\n",
      "2020-03-28 15:30:50,495 INFO Downloading http://136.156.133.46/cache-compute-0015/cache/data0/adaptor.mars.internal-1585405845.7327898-31965-13-e4f875d9-d0eb-45b2-86e8-7be46f598cba.nc to cache/era5_single-levels-monthly-means_2016.nc (23.8M)\n",
      "2020-03-28 15:30:55,169 INFO Download rate 5.1M/s   \n"
     ]
    },
    {
     "name": "stdout",
     "output_type": "stream",
     "text": [
      "file downloaded and saved as  cache/era5_single-levels-monthly-means_2016.nc\n"
     ]
    }
   ],
   "source": [
    "global_rain.get_data_per_year(['2016'])"
   ]
  },
  {
   "cell_type": "code",
   "execution_count": null,
   "metadata": {
    "collapsed": true
   },
   "outputs": [],
   "source": []
  },
  {
   "cell_type": "code",
   "execution_count": null,
   "metadata": {
    "collapsed": true
   },
   "outputs": [],
   "source": []
  },
  {
   "cell_type": "code",
   "execution_count": null,
   "metadata": {
    "collapsed": true
   },
   "outputs": [],
   "source": []
  },
  {
   "cell_type": "code",
   "execution_count": null,
   "metadata": {
    "collapsed": true
   },
   "outputs": [],
   "source": []
  },
  {
   "cell_type": "code",
   "execution_count": null,
   "metadata": {
    "collapsed": true
   },
   "outputs": [],
   "source": []
  },
  {
   "cell_type": "markdown",
   "metadata": {
    "collapsed": true
   },
   "source": [
    "## Plotting data "
   ]
  }
 ],
 "metadata": {
  "kernelspec": {
   "display_name": "Python 3",
   "language": "python",
   "name": "python3"
  },
  "language_info": {
   "codemirror_mode": {
    "name": "ipython",
    "version": 3
   },
   "file_extension": ".py",
   "mimetype": "text/x-python",
   "name": "python",
   "nbconvert_exporter": "python",
   "pygments_lexer": "ipython3",
   "version": "3.6.7"
  }
 },
 "nbformat": 4,
 "nbformat_minor": 2
}
